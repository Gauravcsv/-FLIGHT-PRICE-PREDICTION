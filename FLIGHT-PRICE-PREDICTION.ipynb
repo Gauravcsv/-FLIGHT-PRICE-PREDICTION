{
 "cells": [
  {
   "cell_type": "code",
   "execution_count": null,
   "id": "c81b3c46",
   "metadata": {},
   "outputs": [],
   "source": [
    "    import pandas as pd \n",
    "    import numpy as np\n",
    "    import matplotlib.pyplot as plt\n",
    "    import seaborn as sns\n",
    "    %matplotlib inline\n",
    "\n",
    "    import warnings\n",
    "    warnings.filterwarnings('ignore')"
   ]
  },
  {
   "cell_type": "code",
   "execution_count": null,
   "id": "a6c59f62",
   "metadata": {},
   "outputs": [],
   "source": [
    "data = pd.read_excel(\"C:\\Users\\Gaurav Panwar\\Downloads\\FLIGHT PRICE\\FLIGHT PRICE.xlsx\")\n",
    "data"
   ]
  },
  {
   "cell_type": "code",
   "execution_count": null,
   "id": "6126106d",
   "metadata": {},
   "outputs": [],
   "source": [
    "data.info()"
   ]
  },
  {
   "cell_type": "code",
   "execution_count": null,
   "id": "caea8d1b",
   "metadata": {},
   "outputs": [],
   "source": [
    "data.isnull().sum()"
   ]
  },
  {
   "cell_type": "code",
   "execution_count": null,
   "id": "397c5483",
   "metadata": {},
   "outputs": [],
   "source": [
    "data.shape"
   ]
  },
  {
   "cell_type": "code",
   "execution_count": null,
   "id": "095acb20",
   "metadata": {},
   "outputs": [],
   "source": [
    "plt.figure(figsize=(25,10))\n",
    "sns.countplot(data['Stopping Airports'])\n",
    "print(data['Stopping Airports'].value_counts())"
   ]
  },
  {
   "cell_type": "code",
   "execution_count": null,
   "id": "6d2622df",
   "metadata": {},
   "outputs": [],
   "source": [
    "data['Stopping Airports'] = data['Stopping Airports'].fillna('Mumbai')"
   ]
  },
  {
   "cell_type": "code",
   "execution_count": null,
   "id": "6fa494fd",
   "metadata": {},
   "outputs": [],
   "source": [
    "data.isnull().sum()"
   ]
  },
  {
   "cell_type": "raw",
   "id": "5a3a8dfd",
   "metadata": {},
   "source": [
    "So there is no NULL present in the data now"
   ]
  },
  {
   "cell_type": "code",
   "execution_count": null,
   "id": "39b2fcc6",
   "metadata": {},
   "outputs": [],
   "source": [
    "data['Date of journey(in 2022)'] = pd.to_datetime(data['Date of journey(in 2022)'], format = \"%b d\") "
   ]
  },
  {
   "cell_type": "code",
   "execution_count": null,
   "id": "f2919c18",
   "metadata": {},
   "outputs": [],
   "source": [
    "data['Day'] = data['Date of journey(in 2022)'].dt.day\n",
    "data['Month'] = data['Date of journey(in 2022)'].dt.month\n",
    "data.head()"
   ]
  },
  {
   "cell_type": "code",
   "execution_count": null,
   "id": "a3852cbd",
   "metadata": {},
   "outputs": [],
   "source": [
    "data = data.drop('Date of journey(in 2022)',axis=1)"
   ]
  },
  {
   "cell_type": "code",
   "execution_count": null,
   "id": "c98d458a",
   "metadata": {},
   "outputs": [],
   "source": [
    "data = data.drop('Unnamed: 0',axis=1)"
   ]
  },
  {
   "cell_type": "code",
   "execution_count": null,
   "id": "1b34ab3b",
   "metadata": {},
   "outputs": [],
   "source": [
    "data['Departure Time'] = data['Departure Time'].str.replace(':','').astype(int)"
   ]
  },
  {
   "cell_type": "code",
   "execution_count": null,
   "id": "f3a4782a",
   "metadata": {},
   "outputs": [],
   "source": [
    "data['Arrival Time'] = data['Arrival Time'].str.replace(':','').astype(int)"
   ]
  },
  {
   "cell_type": "code",
   "execution_count": null,
   "id": "4e736e50",
   "metadata": {},
   "outputs": [],
   "source": [
    "data.info()"
   ]
  },
  {
   "cell_type": "code",
   "execution_count": null,
   "id": "7ccba21d",
   "metadata": {},
   "outputs": [],
   "source": [
    "plt.figure(figsize=(10,6))\n",
    "sns.countplot(data['Source'])\n",
    "print(data['Source'].value_counts())"
   ]
  },
  {
   "cell_type": "code",
   "execution_count": null,
   "id": "6e1887d9",
   "metadata": {},
   "outputs": [],
   "source": [
    "plt.figure(figsize=(30,6))\n",
    "sns.countplot(data['Destination'])\n",
    "print(data['Destination'].value_counts())"
   ]
  },
  {
   "cell_type": "code",
   "execution_count": null,
   "id": "4af4010c",
   "metadata": {},
   "outputs": [],
   "source": [
    "data['Destination'] = data['Destination'].replace('+ 1 DAY\\nNewark','New York')"
   ]
  },
  {
   "cell_type": "code",
   "execution_count": null,
   "id": "a0f8259f",
   "metadata": {},
   "outputs": [],
   "source": [
    "data['Destination'] = data['Destination'].replace('Newark','New York')"
   ]
  },
  {
   "cell_type": "code",
   "execution_count": null,
   "id": "8eb3fdaa",
   "metadata": {},
   "outputs": [],
   "source": [
    "data['Destination'] = data['Destination'].replace('+ 1 DAY\\nNew York','New York')"
   ]
  },
  {
   "cell_type": "code",
   "execution_count": null,
   "id": "540af664",
   "metadata": {},
   "outputs": [],
   "source": [
    "data['Destination'] = data['Destination'].replace('New York-LaGua','New York')"
   ]
  },
  {
   "cell_type": "code",
   "execution_count": null,
   "id": "659ee988",
   "metadata": {},
   "outputs": [],
   "source": [
    "data['Destination'] = data['Destination'].replace('New York-LaGuardia Apt','New York')"
   ]
  },
  {
   "cell_type": "code",
   "execution_count": null,
   "id": "0eba2e5f",
   "metadata": {},
   "outputs": [],
   "source": [
    "data['Destination'] = data['Destination'].replace('+ 2 DAY\\nNew Yo','New York')"
   ]
  },
  {
   "cell_type": "code",
   "execution_count": null,
   "id": "a7bd440d",
   "metadata": {},
   "outputs": [],
   "source": [
    "data['Destination'] = data['Destination'].replace('+ 1 DAY\\nNew York-LaGuardia Apt','New York')"
   ]
  },
  {
   "cell_type": "code",
   "execution_count": null,
   "id": "01c46a7d",
   "metadata": {},
   "outputs": [],
   "source": [
    "data['Destination'] = data['Destination'].replace('+ 1 DAY\\nDubai','Dubai')\n",
    "data['Destination'] = data['Destination'].replace('+ 1 DAY\\nSharja','Dubai')\n",
    "data['Destination'] = data['Destination'].replace('Sharjah\\n(19 KM','Dubai')\n",
    "data['Destination'] = data['Destination'].replace('Ras Al Khaimah','Dubai')\n",
    "data['Destination'] = data['Destination'].replace('+ 1 DAY\\nRas Al','Dubai')\n",
    "data['Destination'] = data['Destination'].replace('+ 2 DAY\\nSharja','Dubai')\n",
    "data['Destination'] = data['Destination'].replace('+ 2 DAY\\nNewark','Dubai')"
   ]
  },
  {
   "cell_type": "code",
   "execution_count": null,
   "id": "73797065",
   "metadata": {},
   "outputs": [],
   "source": [
    "data['Destination'] = data['Destination'].replace('+ 1 DAY\\nLondon','London - City')\n",
    "data['Destination'] = data['Destination'].replace('London - Heath','London - City')\n",
    "data['Destination'] = data['Destination'].replace('+ 2 DAY\\nLondon','London - City')\n",
    "data['Destination'] = data['Destination'].replace('London - Gatwi','London - City')\n",
    "data['Destination'] = data['Destination'].replace('London - Stans','London - City')"
   ]
  },
  {
   "cell_type": "code",
   "execution_count": null,
   "id": "0e65d7e4",
   "metadata": {},
   "outputs": [],
   "source": [
    "plt.figure(figsize=(10,6))\n",
    "sns.countplot(data['Destination'])\n",
    "print(data['Destination'].value_counts())"
   ]
  },
  {
   "cell_type": "code",
   "execution_count": null,
   "id": "ee331edb",
   "metadata": {},
   "outputs": [],
   "source": [
    "plt.figure(figsize=(250,30))\n",
    "sns.countplot(data['Airline Names'])\n",
    "print(data['Airline Names'].value_counts())"
   ]
  },
  {
   "cell_type": "code",
   "execution_count": null,
   "id": "c948c461",
   "metadata": {},
   "outputs": [],
   "source": [
    "plt.figure(figsize=(8,6))\n",
    "sns.countplot(data['Total Stops'])\n",
    "print(data['Total Stops'].value_counts())"
   ]
  },
  {
   "cell_type": "code",
   "execution_count": null,
   "id": "a8d20666",
   "metadata": {},
   "outputs": [],
   "source": [
    "print(data['Total Flight Time'].value_counts())"
   ]
  },
  {
   "cell_type": "code",
   "execution_count": null,
   "id": "95cd1a41",
   "metadata": {},
   "outputs": [],
   "source": [
    "data['Fair Price'] = data['Fair Price'].str.replace('₹','')"
   ]
  },
  {
   "cell_type": "code",
   "execution_count": null,
   "id": "f0f99391",
   "metadata": {},
   "outputs": [],
   "source": [
    "data['Fair Price'] = data['Fair Price'].str.replace(',','').astype(int)"
   ]
  },
  {
   "cell_type": "code",
   "execution_count": null,
   "id": "dec8a0d2",
   "metadata": {},
   "outputs": [],
   "source": [
    "data['Fair Price'] = data['Fair Price'].astype('int64')"
   ]
  },
  {
   "cell_type": "code",
   "execution_count": null,
   "id": "01202461",
   "metadata": {},
   "outputs": [],
   "source": [
    "data.info()"
   ]
  },
  {
   "cell_type": "code",
   "execution_count": null,
   "id": "b1506831",
   "metadata": {},
   "outputs": [],
   "source": [
    "plt.figure(figsize=(250,50))\n",
    "sns.barplot(x='Airline Names',y='Fair Price',data=data)"
   ]
  },
  {
   "cell_type": "code",
   "execution_count": null,
   "id": "f6246f78",
   "metadata": {},
   "outputs": [],
   "source": [
    "plt.figure(figsize=(150,40))\n",
    "sns.boxplot(x='Airline Names',y='Fair Price',data=data)"
   ]
  },
  {
   "cell_type": "code",
   "execution_count": null,
   "id": "43e25d29",
   "metadata": {},
   "outputs": [],
   "source": [
    "plt.figure(figsize=(7,4))\n",
    "sns.barplot(x='Source',y='Fair Price',data=data)"
   ]
  },
  {
   "cell_type": "code",
   "execution_count": null,
   "id": "7f0a8354",
   "metadata": {},
   "outputs": [],
   "source": [
    "data['Total Flight Time'] = data['Total Flight Time'].str.replace(' h','')"
   ]
  },
  {
   "cell_type": "code",
   "execution_count": null,
   "id": "572633ae",
   "metadata": {},
   "outputs": [],
   "source": [
    "data['Total Flight Time'] = data['Total Flight Time'].str.replace('\\n','')"
   ]
  },
  {
   "cell_type": "code",
   "execution_count": null,
   "id": "3f9d3f77",
   "metadata": {},
   "outputs": [],
   "source": [
    "data['Total Flight Time'] = data['Total Flight Time'].str.replace(' ','')"
   ]
  },
  {
   "cell_type": "code",
   "execution_count": null,
   "id": "0409119e",
   "metadata": {},
   "outputs": [],
   "source": [
    "data['Total Flight Time'] = data['Total Flight Time'].str.replace('No','')"
   ]
  },
  {
   "cell_type": "code",
   "execution_count": null,
   "id": "3832fa8f",
   "metadata": {},
   "outputs": [],
   "source": [
    "data['Total Flight Time'] = data['Total Flight Time'].astype('int64')"
   ]
  },
  {
   "cell_type": "code",
   "execution_count": null,
   "id": "7cef089d",
   "metadata": {},
   "outputs": [],
   "source": [
    "plt.figure(figsize=(12,10))\n",
    "sns.regplot(x='Total Flight Time',y='Fair Price',data=data)"
   ]
  },
  {
   "cell_type": "code",
   "execution_count": null,
   "id": "1b3311f5",
   "metadata": {},
   "outputs": [],
   "source": [
    "plt.figure(figsize=(8,6))\n",
    "sns.regplot(x='Month',y='Fair Price',data=data)\n"
   ]
  },
  {
   "cell_type": "code",
   "execution_count": null,
   "id": "2baadea0",
   "metadata": {},
   "outputs": [],
   "source": [
    "from sklearn.preprocessing import LabelEncoder"
   ]
  },
  {
   "cell_type": "code",
   "execution_count": null,
   "id": "f707b943",
   "metadata": {},
   "outputs": [],
   "source": [
    "le = LabelEncoder()\n",
    "var_mode = ['Airline Names','Source','Destination','Total Stops','Stopping Airports']\n",
    "\n",
    "for i in var_mode:\n",
    "    data[i] = le.fit_transform(data[i])"
   ]
  },
  {
   "cell_type": "code",
   "execution_count": null,
   "id": "19ab800d",
   "metadata": {},
   "outputs": [],
   "source": [
    "data.info()"
   ]
  },
  {
   "cell_type": "code",
   "execution_count": null,
   "id": "b146c4cd",
   "metadata": {},
   "outputs": [],
   "source": [
    "data.describe()"
   ]
  },
  {
   "cell_type": "code",
   "execution_count": null,
   "id": "8206376d",
   "metadata": {},
   "outputs": [],
   "source": [
    "data.corr()"
   ]
  },
  {
   "cell_type": "code",
   "execution_count": null,
   "id": "22fa9fbc",
   "metadata": {},
   "outputs": [],
   "source": [
    "plt.figure(figsize=(8,6))\n",
    "sns.heatmap(data.corr(),annot=True,linewidth = 0.2,linecolor = 'black',fmt='0.2f')"
   ]
  },
  {
   "cell_type": "code",
   "execution_count": null,
   "id": "60326b5b",
   "metadata": {},
   "outputs": [],
   "source": [
    "x= data.drop(\"Fair Price\",axis=1)\n",
    "y= data[\"Fair Price\"]"
   ]
  },
  {
   "cell_type": "code",
   "execution_count": null,
   "id": "bce8dd79",
   "metadata": {},
   "outputs": [],
   "source": [
    "from statsmodels.stats.outliers_influence import variance_inflation_factor"
   ]
  },
  {
   "cell_type": "code",
   "execution_count": null,
   "id": "39db6ca1",
   "metadata": {},
   "outputs": [],
   "source": [
    "from sklearn.preprocessing import StandardScaler\n",
    "sc = StandardScaler()\n",
    "x_scaled= sc.fit_transform(x)"
   ]
  },
  {
   "cell_type": "code",
   "execution_count": null,
   "id": "8b0f51eb",
   "metadata": {},
   "outputs": [],
   "source": [
    "x_scaled.shape[1]"
   ]
  },
  {
   "cell_type": "code",
   "execution_count": null,
   "id": "d6ff751e",
   "metadata": {},
   "outputs": [],
   "source": [
    "vif = pd.DataFrame()\n",
    "vif[\"vif\"] = [variance_inflation_factor(x_scaled,i) for i in range(x_scaled.shape[1])]\n",
    "vif[\"features\"] = x.columns\n",
    "\n",
    "vif"
   ]
  },
  {
   "cell_type": "raw",
   "id": "05ba53aa",
   "metadata": {},
   "source": [
    "So Now we are ready to build our model to predict the SALEPRICE"
   ]
  },
  {
   "cell_type": "code",
   "execution_count": null,
   "id": "9d91f8a9",
   "metadata": {},
   "outputs": [],
   "source": [
    "from sklearn.preprocessing import StandardScaler\n",
    "sc = StandardScaler()\n",
    "x= sc.fit_transform(x)"
   ]
  },
  {
   "cell_type": "raw",
   "id": "a4edf257",
   "metadata": {},
   "source": [
    "1) WITH LINEAR REGRESSION"
   ]
  },
  {
   "cell_type": "code",
   "execution_count": null,
   "id": "3080d5e8",
   "metadata": {},
   "outputs": [],
   "source": [
    "from sklearn.linear_model import LinearRegression\n",
    "lr = LinearRegression()\n",
    "from sklearn.metrics import r2_score\n",
    "from sklearn.model_selection import train_test_split"
   ]
  },
  {
   "cell_type": "code",
   "execution_count": null,
   "id": "d1519013",
   "metadata": {},
   "outputs": [],
   "source": [
    "for i in range(0,100):\n",
    "    x_train,x_test,y_train,y_test=train_test_split(x,y,test_size=0.25,random_state=i)\n",
    "    lr.fit(x_train,y_train)\n",
    "    pred_train = lr.predict(x_train)\n",
    "    pred_test = lr.predict(x_test)\n",
    "    print(\"At random state\",i , \"the training accuracy is\",  {r2_score(y_train,pred_train)})\n",
    "    \n",
    "    print(\"At random state\",i , \"the testing accuracy is\" , {r2_score(y_test,pred_test)})\n",
    "    print(\"\\n\")"
   ]
  },
  {
   "cell_type": "code",
   "execution_count": null,
   "id": "2c13661e",
   "metadata": {},
   "outputs": [],
   "source": [
    "x_train, x_test, y_train, y_test=train_test_split(x,y,test_size=.25,random_state=1)"
   ]
  },
  {
   "cell_type": "code",
   "execution_count": null,
   "id": "d97be591",
   "metadata": {},
   "outputs": [],
   "source": [
    "lr = LinearRegression()\n",
    "lr.fit(x_train,y_train)\n",
    "pred_lr=lr.predict(x_test)\n",
    "print(\"Accuracy\",r2_score(y_test,pred_lr)*100)"
   ]
  },
  {
   "cell_type": "code",
   "execution_count": null,
   "id": "712a580e",
   "metadata": {},
   "outputs": [],
   "source": [
    "from sklearn.model_selection import cross_val_score"
   ]
  },
  {
   "cell_type": "code",
   "execution_count": null,
   "id": "c27460eb",
   "metadata": {},
   "outputs": [],
   "source": [
    "scr_lr = cross_val_score(lr,x_train,y_train,cv=3)\n",
    "print(\"Cross Validation Score of Linear regression model is :- \",scr_lr.mean())"
   ]
  },
  {
   "cell_type": "code",
   "execution_count": null,
   "id": "da7303fa",
   "metadata": {},
   "outputs": [],
   "source": [
    "from sklearn import metrics"
   ]
  },
  {
   "cell_type": "code",
   "execution_count": null,
   "id": "ccd5ebca",
   "metadata": {},
   "outputs": [],
   "source": [
    "MAE = metrics.mean_absolute_error(y_test,pred_lr)\n",
    "MSE = metrics.mean_squared_error(y_test,pred_lr)"
   ]
  },
  {
   "cell_type": "code",
   "execution_count": null,
   "id": "6c6262c9",
   "metadata": {},
   "outputs": [],
   "source": [
    "print(\"mean absolute error:\",MAE)\n",
    "print(\"mean squared error:\",MSE)"
   ]
  },
  {
   "cell_type": "code",
   "execution_count": null,
   "id": "57065f3f",
   "metadata": {},
   "outputs": [],
   "source": [
    "from math import sqrt\n",
    "rmse = sqrt(MSE)\n",
    "print(\"Root Mean Squared Error:\",rmse)"
   ]
  },
  {
   "cell_type": "raw",
   "id": "f56a33f3",
   "metadata": {},
   "source": [
    "2) WITH LASSO"
   ]
  },
  {
   "cell_type": "code",
   "execution_count": null,
   "id": "82f72189",
   "metadata": {},
   "outputs": [],
   "source": [
    "from sklearn.linear_model import Lasso"
   ]
  },
  {
   "cell_type": "code",
   "execution_count": null,
   "id": "5fcfe86f",
   "metadata": {},
   "outputs": [],
   "source": [
    "from sklearn.model_selection import GridSearchCV"
   ]
  },
  {
   "cell_type": "code",
   "execution_count": null,
   "id": "0a1524a6",
   "metadata": {},
   "outputs": [],
   "source": [
    "from sklearn.linear_model import Lasso\n",
    "parameters = {'alpha':[.0001,.001,.01,.1,1,10],'random_state':list(range(2,10))}\n",
    "\n",
    "ls = Lasso()\n",
    "clf = GridSearchCV(ls,parameters)\n",
    "clf.fit(x_train,y_train)\n",
    "\n",
    "print(clf.best_params_)"
   ]
  },
  {
   "cell_type": "code",
   "execution_count": null,
   "id": "45bfb59f",
   "metadata": {},
   "outputs": [],
   "source": [
    "ls = Lasso(alpha=10,random_state=2)\n",
    "ls.fit(x_train,y_train)\n",
    "ls.score(x_train,y_train)\n",
    "pred_ls = ls.predict(x_test)"
   ]
  },
  {
   "cell_type": "code",
   "execution_count": null,
   "id": "f9c9749e",
   "metadata": {},
   "outputs": [],
   "source": [
    "lss = r2_score(y_test,pred_ls)\n",
    "lss"
   ]
  },
  {
   "cell_type": "code",
   "execution_count": null,
   "id": "df3e3a13",
   "metadata": {},
   "outputs": [],
   "source": [
    "scr_ls = cross_val_score(ls,x_train,y_train,cv=3)\n",
    "print(\"Cross Validation Score of Linear regression model is :- \",scr_ls.mea"
   ]
  },
  {
   "cell_type": "code",
   "execution_count": null,
   "id": "0c1f80dc",
   "metadata": {},
   "outputs": [],
   "source": [
    "MAE = metrics.mean_absolute_error(y_test,pred_ls)\n",
    "MSE = metrics.mean_squared_error(y_test,pred_ls)"
   ]
  },
  {
   "cell_type": "code",
   "execution_count": null,
   "id": "7b980f62",
   "metadata": {},
   "outputs": [],
   "source": [
    "print(\"mean absolute error:\",MAE)\n",
    "print(\"mean squared error:\",MSE)"
   ]
  },
  {
   "cell_type": "code",
   "execution_count": null,
   "id": "5b8582aa",
   "metadata": {},
   "outputs": [],
   "source": [
    "from math import sqrt\n",
    "rmse = sqrt(MSE)\n",
    "print(\"Root Mean Squared Error:\",rmse)"
   ]
  },
  {
   "cell_type": "raw",
   "id": "865ab57c",
   "metadata": {},
   "source": [
    "3) WITH RANDOMFOREST REGRESSOR"
   ]
  },
  {
   "cell_type": "code",
   "execution_count": null,
   "id": "b65a48c5",
   "metadata": {},
   "outputs": [],
   "source": [
    "from sklearn.ensemble import RandomForestRegressor"
   ]
  },
  {
   "cell_type": "code",
   "execution_count": null,
   "id": "f224120c",
   "metadata": {},
   "outputs": [],
   "source": [
    "rf = RandomForestRegressor(criterion=\"mae\",max_features=\"auto\",max_depth=4,min_samples_leaf=4)\n",
    "rf.fit(x_train,y_train)\n",
    "rf.score(x_train,y_train)\n",
    "pred_dec = rf.predict(x_test)"
   ]
  },
  {
   "cell_type": "code",
   "execution_count": null,
   "id": "384f20c4",
   "metadata": {},
   "outputs": [],
   "source": [
    "MAE = metrics.mean_absolute_error(y_test,pred_dec)\n",
    "MSE = metrics.mean_squared_error(y_test,pred_dec)"
   ]
  },
  {
   "cell_type": "code",
   "execution_count": null,
   "id": "24679f38",
   "metadata": {},
   "outputs": [],
   "source": [
    "print(\"mean absolute error:\",MAE)\n",
    "print(\"mean squared error:\",MSE)"
   ]
  },
  {
   "cell_type": "code",
   "execution_count": null,
   "id": "f0c708bf",
   "metadata": {},
   "outputs": [],
   "source": [
    "from math import sqrt\n",
    "rmse = sqrt(MSE)\n",
    "print(\"Root Mean Squared Error:\",rmse)"
   ]
  },
  {
   "cell_type": "raw",
   "id": "408cac6c",
   "metadata": {},
   "source": [
    "4) WITH ADABOOST REGRESSOR"
   ]
  },
  {
   "cell_type": "code",
   "execution_count": null,
   "id": "97ea6874",
   "metadata": {},
   "outputs": [],
   "source": [
    "from sklearn.ensemble import AdaBoostRegressor\n",
    "from sklearn.model_selection import RandomizedSearchCV"
   ]
  },
  {
   "cell_type": "code",
   "execution_count": null,
   "id": "59d84208",
   "metadata": {},
   "outputs": [],
   "source": [
    "params = {'n_estimators':[47,50,60,70],'learning_rate':[0.25,0.30,0.40]}"
   ]
  },
  {
   "cell_type": "code",
   "execution_count": null,
   "id": "95220dd2",
   "metadata": {},
   "outputs": [],
   "source": [
    "rnd_srch = RandomizedSearchCV(AdaBoostRegressor(),cv=3,param_distributions=params"
   ]
  },
  {
   "cell_type": "code",
   "execution_count": null,
   "id": "08f933d5",
   "metadata": {},
   "outputs": [],
   "source": [
    "rnd_srch.fit(x_train,y_train)"
   ]
  },
  {
   "cell_type": "code",
   "execution_count": null,
   "id": "fb0c9e98",
   "metadata": {},
   "outputs": [],
   "source": [
    "rnd_srch.best_estimator_"
   ]
  },
  {
   "cell_type": "code",
   "execution_count": null,
   "id": "bbd3535e",
   "metadata": {},
   "outputs": [],
   "source": [
    "ada = AdaBoostRegressor(learning_rate=0.3,n_estimators=47)"
   ]
  },
  {
   "cell_type": "code",
   "execution_count": null,
   "id": "e49df00c",
   "metadata": {},
   "outputs": [],
   "source": [
    "ada.fit(x_train,y_train)"
   ]
  },
  {
   "cell_type": "code",
   "execution_count": null,
   "id": "08261a94",
   "metadata": {},
   "outputs": [],
   "source": [
    "y_pred = ada.predict(x_test)\n",
    "\n",
    "print(r2_score(y_test,y_pred))"
   ]
  },
  {
   "cell_type": "code",
   "execution_count": null,
   "id": "19766270",
   "metadata": {},
   "outputs": [],
   "source": [
    "cv_score = cross_val_score(ada,x_train,y_train,cv=3)\n",
    "cv_mean = cv_score.mean()\n",
    "cv_mean"
   ]
  },
  {
   "cell_type": "code",
   "execution_count": null,
   "id": "2355501f",
   "metadata": {},
   "outputs": [],
   "source": [
    "MAE = metrics.mean_absolute_error(y_test,y_pred)\n",
    "MSE = metrics.mean_squared_error(y_test,y_pred)"
   ]
  },
  {
   "cell_type": "code",
   "execution_count": null,
   "id": "98803121",
   "metadata": {},
   "outputs": [],
   "source": [
    "print(\"mean absolute error:\",MAE)\n",
    "print(\"mean squared error:\",MSE)"
   ]
  },
  {
   "cell_type": "code",
   "execution_count": null,
   "id": "ccab2642",
   "metadata": {},
   "outputs": [],
   "source": [
    "from math import sqrt\n",
    "rmse = sqrt(MSE)\n",
    "print(\"Root Mean Squared Error:\",rmse)"
   ]
  },
  {
   "cell_type": "raw",
   "id": "101411f0",
   "metadata": {},
   "source": [
    "5) WITH GRADIENT BOOSTING REGRESSOR"
   ]
  },
  {
   "cell_type": "code",
   "execution_count": null,
   "id": "a1a17637",
   "metadata": {},
   "outputs": [],
   "source": [
    "from sklearn.ensemble import GradientBoostingRegressor"
   ]
  },
  {
   "cell_type": "code",
   "execution_count": null,
   "id": "7b4d0b32",
   "metadata": {},
   "outputs": [],
   "source": [
    "gbd = GradientBoostingRegressor()\n",
    "gbd.fit(x_train,y_train)\n",
    "pred_gbd=gbd.predict(x_test)\n",
    "print(\"Accuracy\",r2_score(y_test,pred_gbd)*100)"
   ]
  },
  {
   "cell_type": "code",
   "execution_count": null,
   "id": "6a192f26",
   "metadata": {},
   "outputs": [],
   "source": [
    "cv_score = cross_val_score(gbd,x_train,y_train,cv=3)\n",
    "cv_mean = cv_score.mean()\n",
    "cv_mean"
   ]
  },
  {
   "cell_type": "code",
   "execution_count": null,
   "id": "0e70573c",
   "metadata": {},
   "outputs": [],
   "source": [
    "MAE = metrics.mean_absolute_error(y_test,pred_gbd)\n",
    "MSE = metrics.mean_squared_error(y_test,pred_gbd)"
   ]
  },
  {
   "cell_type": "code",
   "execution_count": null,
   "id": "d451c346",
   "metadata": {},
   "outputs": [],
   "source": [
    "print(\"mean absolute error:\",MAE)\n",
    "print(\"mean squared error:\",MSE)"
   ]
  }
 ],
 "metadata": {
  "kernelspec": {
   "display_name": "Python 3 (ipykernel)",
   "language": "python",
   "name": "python3"
  },
  "language_info": {
   "codemirror_mode": {
    "name": "ipython",
    "version": 3
   },
   "file_extension": ".py",
   "mimetype": "text/x-python",
   "name": "python",
   "nbconvert_exporter": "python",
   "pygments_lexer": "ipython3",
   "version": "3.9.12"
  }
 },
 "nbformat": 4,
 "nbformat_minor": 5
}

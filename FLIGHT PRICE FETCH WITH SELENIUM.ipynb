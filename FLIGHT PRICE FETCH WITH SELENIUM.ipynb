{
 "cells": [
  {
   "cell_type": "code",
   "execution_count": null,
   "id": "39a6251e",
   "metadata": {},
   "outputs": [],
   "source": [
    "import selenium\n",
    "from selenium import webdriver\n",
    "import pandas as pd\n",
    "from selenium.webdriver.common.by import By\n",
    "import time\n",
    "from bs4 import BeautifulSoup\n",
    "\n",
    "from selenium.common.exceptions import StaleElementReferenceException, NoSuchElementException\n",
    "\n",
    "import requests\n",
    "\n",
    "import re\n",
    "from selenium.webdriver.common.by import By\n",
    "\n",
    "import warnings\n",
    "warnings.filterwarnings('ignore')"
   ]
  },
  {
   "cell_type": "code",
   "execution_count": null,
   "id": "a6f3b288",
   "metadata": {},
   "outputs": [],
   "source": [
    "driver = webdriver.Chrome(\"C:\\chromedriver_win32\\chromedriver.exe\")"
   ]
  },
  {
   "cell_type": "code",
   "execution_count": null,
   "id": "3c67e6b4",
   "metadata": {},
   "outputs": [],
   "source": [
    "url = \"https://www.makemytrip.com/flight/search?itinerary=DEL-NYC-13/10/2022&tripType=O&paxType=A-1_C-0_I-0&intl=true&cabinClass=E&ccde=IN&lang=eng\"\n",
    "driver.get(url)"
   ]
  },
  {
   "cell_type": "code",
   "execution_count": null,
   "id": "81d9d8d1",
   "metadata": {},
   "outputs": [],
   "source": [
    "name = []\n",
    "pro = driver.find_elements(By.XPATH,'//p[@class=\"boldFont blackText airlineName\"]')\n",
    "for i in pro:\n",
    "    name.append(i.text)\n",
    "        "
   ]
  },
  {
   "cell_type": "code",
   "execution_count": null,
   "id": "66a8a385",
   "metadata": {},
   "outputs": [],
   "source": [
    "len(name)"
   ]
  },
  {
   "cell_type": "code",
   "execution_count": null,
   "id": "5678ba10",
   "metadata": {},
   "outputs": [],
   "source": [
    "name"
   ]
  },
  {
   "cell_type": "code",
   "execution_count": null,
   "id": "6af60d30",
   "metadata": {},
   "outputs": [],
   "source": [
    "dep = []\n",
    "pro = driver.find_elements(By.XPATH,'//div[@class=\"flexOne timeInfoLeft\"]')\n",
    "for i in pro:\n",
    "    dep.append(i.text[0:5])\n",
    "        "
   ]
  },
  {
   "cell_type": "code",
   "execution_count": null,
   "id": "5b2f610a",
   "metadata": {},
   "outputs": [],
   "source": [
    "len(dep)"
   ]
  },
  {
   "cell_type": "code",
   "execution_count": null,
   "id": "ed3bc826",
   "metadata": {},
   "outputs": [],
   "source": [
    "dep"
   ]
  },
  {
   "cell_type": "code",
   "execution_count": null,
   "id": "c73d1900",
   "metadata": {},
   "outputs": [],
   "source": [
    "arri = []\n",
    "pro = driver.find_elements(By.XPATH,'//div[@class=\"flexOne timeInfoRight\"]')\n",
    "for i in pro:\n",
    "    arri.append(i.text[0:5])\n",
    "        \n",
    " "
   ]
  },
  {
   "cell_type": "code",
   "execution_count": null,
   "id": "a4a153ea",
   "metadata": {},
   "outputs": [],
   "source": [
    "len(arri)"
   ]
  },
  {
   "cell_type": "code",
   "execution_count": null,
   "id": "9c57ed41",
   "metadata": {},
   "outputs": [],
   "source": [
    "arri"
   ]
  },
  {
   "cell_type": "code",
   "execution_count": null,
   "id": "1f34557a",
   "metadata": {},
   "outputs": [],
   "source": [
    "sou = []\n",
    "pro = driver.find_elements(By.XPATH,'//div[@class=\"flexOne timeInfoLeft\"]')\n",
    "for i in pro:\n",
    "    sou.append(i.text[6:])\n",
    "        "
   ]
  },
  {
   "cell_type": "code",
   "execution_count": null,
   "id": "6a658b29",
   "metadata": {},
   "outputs": [],
   "source": [
    "len(sou)"
   ]
  },
  {
   "cell_type": "code",
   "execution_count": null,
   "id": "6442c821",
   "metadata": {},
   "outputs": [],
   "source": [
    "sou"
   ]
  },
  {
   "cell_type": "code",
   "execution_count": null,
   "id": "1dacfc47",
   "metadata": {},
   "outputs": [],
   "source": [
    "Desti = []\n",
    "pro = driver.find_elements(By.XPATH,'//div[@class=\"flexOne timeInfoRight\"]')\n",
    "for i in pro:\n",
    "    Desti.append(i.text[6:])\n",
    "        "
   ]
  },
  {
   "cell_type": "code",
   "execution_count": null,
   "id": "6c4a4cd0",
   "metadata": {},
   "outputs": [],
   "source": [
    "len(Desti)"
   ]
  },
  {
   "cell_type": "code",
   "execution_count": null,
   "id": "c4e6db1d",
   "metadata": {},
   "outputs": [],
   "source": [
    "Desti"
   ]
  },
  {
   "cell_type": "code",
   "execution_count": null,
   "id": "6341cc36",
   "metadata": {},
   "outputs": [],
   "source": [
    "stop = []\n",
    "pro = driver.find_elements(By.XPATH,'//p[@class=\"flightsLayoverInfo\"]')\n",
    "for i in pro:\n",
    "    stop.append(i.text[0:7])\n",
    "        "
   ]
  },
  {
   "cell_type": "code",
   "execution_count": null,
   "id": "abf0a8a7",
   "metadata": {},
   "outputs": [],
   "source": [
    "len(stop)"
   ]
  },
  {
   "cell_type": "code",
   "execution_count": null,
   "id": "0de6b4ab",
   "metadata": {},
   "outputs": [],
   "source": [
    "stop"
   ]
  },
  {
   "cell_type": "code",
   "execution_count": null,
   "id": "91694ac2",
   "metadata": {},
   "outputs": [],
   "source": [
    "air = []\n",
    "pro = driver.find_elements(By.XPATH,'//p[@class=\"flightsLayoverInfo\"]')\n",
    "for i in pro:\n",
    "    air.append(i.text[11:])\n",
    "        \n",
    " "
   ]
  },
  {
   "cell_type": "code",
   "execution_count": null,
   "id": "0a739d97",
   "metadata": {},
   "outputs": [],
   "source": [
    "air"
   ]
  },
  {
   "cell_type": "code",
   "execution_count": null,
   "id": "9a525b96",
   "metadata": {},
   "outputs": [],
   "source": [
    "tot = []\n",
    "pro = driver.find_elements(By.XPATH,'//div[@class=\"stop-info flexOne\"]')\n",
    "for i in pro:\n",
    "    tot.append(i.text[0:7])"
   ]
  },
  {
   "cell_type": "code",
   "execution_count": null,
   "id": "31a6fbd1",
   "metadata": {},
   "outputs": [],
   "source": [
    "len(tot)"
   ]
  },
  {
   "cell_type": "code",
   "execution_count": null,
   "id": "7c2f4e5b",
   "metadata": {},
   "outputs": [],
   "source": [
    "tot"
   ]
  },
  {
   "cell_type": "code",
   "execution_count": null,
   "id": "6e9c96ac",
   "metadata": {},
   "outputs": [],
   "source": [
    "pri = []\n",
    "pro = driver.find_elements(By.XPATH,'//p[@class=\"blackText fontSize18 blackFont white-space-no-wrap\"]')\n",
    "for i in pro:\n",
    "    pri.append(i.text[0:10])"
   ]
  },
  {
   "cell_type": "code",
   "execution_count": null,
   "id": "341f0fda",
   "metadata": {},
   "outputs": [],
   "source": [
    "pri"
   ]
  },
  {
   "cell_type": "code",
   "execution_count": null,
   "id": "9f7a7d87",
   "metadata": {},
   "outputs": [],
   "source": [
    "len(pri)"
   ]
  },
  {
   "cell_type": "code",
   "execution_count": null,
   "id": "9818476a",
   "metadata": {},
   "outputs": [],
   "source": [
    "dat = []\n",
    "pro = driver.find_elements(By.XPATH,'//div[@class=\"DayPicker-Caption\"]')\n",
    "for i in pro[0:1]:\n",
    "    dat.append(i.text)"
   ]
  },
  {
   "cell_type": "code",
   "execution_count": null,
   "id": "0505e097",
   "metadata": {},
   "outputs": [],
   "source": [
    "dat"
   ]
  },
  {
   "cell_type": "code",
   "execution_count": null,
   "id": "c5128932",
   "metadata": {},
   "outputs": [],
   "source": [
    "dat.insert(0,7)"
   ]
  },
  {
   "cell_type": "code",
   "execution_count": null,
   "id": "c63a435d",
   "metadata": {},
   "outputs": [],
   "source": [
    "dat"
   ]
  },
  {
   "cell_type": "code",
   "execution_count": null,
   "id": "ee471f0e",
   "metadata": {},
   "outputs": [],
   "source": [
    "dat = dat*10"
   ]
  },
  {
   "cell_type": "code",
   "execution_count": null,
   "id": "8aecf26b",
   "metadata": {},
   "outputs": [],
   "source": [
    "print(dat)"
   ]
  },
  {
   "cell_type": "code",
   "execution_count": null,
   "id": "808ce583",
   "metadata": {},
   "outputs": [],
   "source": [
    "len(dat)"
   ]
  },
  {
   "cell_type": "code",
   "execution_count": null,
   "id": "698561c1",
   "metadata": {},
   "outputs": [],
   "source": [
    "dat"
   ]
  },
  {
   "cell_type": "raw",
   "id": "45658159",
   "metadata": {},
   "source": [
    "LETS FETCH MORE DATA FROM DIFF SOURCE AND DIFF DATE"
   ]
  },
  {
   "cell_type": "code",
   "execution_count": null,
   "id": "ed7cf69e",
   "metadata": {},
   "outputs": [],
   "source": [
    "url = \"https://www.makemytrip.com/flight/search?tripType=O&itinerary=DEL-DXB-18/11/2022&paxType=A-1_C-0_I-0&cabinClass=E&sTime=1663834132363&forwardFlowRequired=true&mpo=&semType=&intl=true\"\n",
    "driver.get(url)"
   ]
  },
  {
   "cell_type": "code",
   "execution_count": null,
   "id": "3336432d",
   "metadata": {},
   "outputs": [],
   "source": [
    "names = []\n",
    "pro = driver.find_elements(By.XPATH,'//p[@class=\"boldFont blackText airlineName\"]')\n",
    "for i in pro:\n",
    "    names.append(i.text)\n",
    "        "
   ]
  },
  {
   "cell_type": "code",
   "execution_count": null,
   "id": "2f132570",
   "metadata": {},
   "outputs": [],
   "source": [
    "len(names)"
   ]
  },
  {
   "cell_type": "code",
   "execution_count": null,
   "id": "7c088420",
   "metadata": {},
   "outputs": [],
   "source": [
    "print(names)"
   ]
  },
  {
   "cell_type": "code",
   "execution_count": null,
   "id": "089a21f9",
   "metadata": {},
   "outputs": [],
   "source": [
    "deps = []\n",
    "pro = driver.find_elements(By.XPATH,'//div[@class=\"flexOne timeInfoLeft\"]')\n",
    "for i in pro:\n",
    "    deps.append(i.text[0:5])"
   ]
  },
  {
   "cell_type": "code",
   "execution_count": null,
   "id": "b6e350b2",
   "metadata": {},
   "outputs": [],
   "source": [
    "len(deps)"
   ]
  },
  {
   "cell_type": "code",
   "execution_count": null,
   "id": "8308c65d",
   "metadata": {},
   "outputs": [],
   "source": [
    "deps"
   ]
  },
  {
   "cell_type": "code",
   "execution_count": null,
   "id": "f70a7fa7",
   "metadata": {},
   "outputs": [],
   "source": [
    "arriv = []\n",
    "pro = driver.find_elements(By.XPATH,'//div[@class=\"flexOne timeInfoRight\"]')\n",
    "for i in pro:\n",
    "    arriv.append(i.text[0:5])"
   ]
  },
  {
   "cell_type": "code",
   "execution_count": null,
   "id": "fec3056e",
   "metadata": {},
   "outputs": [],
   "source": [
    "len(arriv)"
   ]
  },
  {
   "cell_type": "code",
   "execution_count": null,
   "id": "7e7a5c31",
   "metadata": {},
   "outputs": [],
   "source": [
    "arriv"
   ]
  },
  {
   "cell_type": "code",
   "execution_count": null,
   "id": "f19c6d7f",
   "metadata": {},
   "outputs": [],
   "source": [
    "sour = []\n",
    "pro = driver.find_elements(By.XPATH,'//div[@class=\"flexOne timeInfoLeft\"]')\n",
    "for i in pro:\n",
    "    sour.append(i.text[6:])"
   ]
  },
  {
   "cell_type": "code",
   "execution_count": null,
   "id": "9bc78980",
   "metadata": {},
   "outputs": [],
   "source": [
    "len(sour)"
   ]
  },
  {
   "cell_type": "code",
   "execution_count": null,
   "id": "bba35798",
   "metadata": {},
   "outputs": [],
   "source": [
    "sour"
   ]
  },
  {
   "cell_type": "code",
   "execution_count": null,
   "id": "43246cd4",
   "metadata": {},
   "outputs": [],
   "source": [
    "Destin = []\n",
    "pro = driver.find_elements(By.XPATH,'//div[@class=\"flexOne timeInfoRight\"]')\n",
    "for i in pro:\n",
    "    Destin.append(i.text[6:20])\n",
    "        \n",
    " "
   ]
  },
  {
   "cell_type": "code",
   "execution_count": null,
   "id": "ff74ea3b",
   "metadata": {},
   "outputs": [],
   "source": [
    "len(Destin)"
   ]
  },
  {
   "cell_type": "code",
   "execution_count": null,
   "id": "52929c84",
   "metadata": {},
   "outputs": [],
   "source": [
    "Destin"
   ]
  },
  {
   "cell_type": "code",
   "execution_count": null,
   "id": "5339b3e2",
   "metadata": {},
   "outputs": [],
   "source": [
    "stops = []\n",
    "pro = driver.find_elements(By.XPATH,'//p[@class=\"flightsLayoverInfo\"]')\n",
    "for i in pro:\n",
    "    stops.append(i.text[0:7])\n",
    "        "
   ]
  },
  {
   "cell_type": "code",
   "execution_count": null,
   "id": "d18e40ba",
   "metadata": {},
   "outputs": [],
   "source": [
    "len(stops)"
   ]
  },
  {
   "cell_type": "code",
   "execution_count": null,
   "id": "f8ac9e8f",
   "metadata": {},
   "outputs": [],
   "source": [
    "stops"
   ]
  },
  {
   "cell_type": "code",
   "execution_count": null,
   "id": "fc8bd3d5",
   "metadata": {},
   "outputs": [],
   "source": [
    "airl = []\n",
    "pro = driver.find_elements(By.XPATH,'//p[@class=\"flightsLayoverInfo\"]')\n",
    "for i in pro:\n",
    "    airl.append(i.text[11:])\n",
    "        "
   ]
  },
  {
   "cell_type": "code",
   "execution_count": null,
   "id": "d6b72ab3",
   "metadata": {},
   "outputs": [],
   "source": [
    "len(airl)"
   ]
  },
  {
   "cell_type": "code",
   "execution_count": null,
   "id": "30162c70",
   "metadata": {},
   "outputs": [],
   "source": [
    "airl"
   ]
  },
  {
   "cell_type": "code",
   "execution_count": null,
   "id": "f52799ed",
   "metadata": {},
   "outputs": [],
   "source": [
    "tota = []\n",
    "pro = driver.find_elements(By.XPATH,'//div[@class=\"stop-info flexOne\"]')\n",
    "for i in pro:\n",
    "    tota.append(i.text[0:7])"
   ]
  },
  {
   "cell_type": "code",
   "execution_count": null,
   "id": "35201dc0",
   "metadata": {},
   "outputs": [],
   "source": [
    "len(tota)"
   ]
  },
  {
   "cell_type": "code",
   "execution_count": null,
   "id": "9e8aa8de",
   "metadata": {},
   "outputs": [],
   "source": [
    "tota"
   ]
  },
  {
   "cell_type": "code",
   "execution_count": null,
   "id": "70c260e0",
   "metadata": {},
   "outputs": [],
   "source": [
    "pric = []\n",
    "pro = driver.find_elements(By.XPATH,'//p[@class=\"blackText fontSize18 blackFont white-space-no-wrap\"]')\n",
    "for i in pro:\n",
    "    pric.append(i.text[0:10])"
   ]
  },
  {
   "cell_type": "code",
   "execution_count": null,
   "id": "22b82b68",
   "metadata": {},
   "outputs": [],
   "source": [
    "len(pric)"
   ]
  },
  {
   "cell_type": "code",
   "execution_count": null,
   "id": "94a2f74a",
   "metadata": {},
   "outputs": [],
   "source": [
    "pric"
   ]
  },
  {
   "cell_type": "raw",
   "id": "68c400f4",
   "metadata": {},
   "source": [
    "Lets fetch now with diff data"
   ]
  },
  {
   "cell_type": "code",
   "execution_count": null,
   "id": "d1195414",
   "metadata": {},
   "outputs": [],
   "source": [
    "url = \"https://www.makemytrip.com/flight/search?tripType=O&itinerary=BLR-DXB-15/11/2022&paxType=A-1_C-0_I-0&cabinClass=E&sTime=1663835733045&forwardFlowRequired=true&mpo=&semType=&intl=true\"\n",
    "driver.get(url)"
   ]
  },
  {
   "cell_type": "code",
   "execution_count": null,
   "id": "7727be4f",
   "metadata": {},
   "outputs": [],
   "source": [
    "namess = []\n",
    "pro = driver.find_elements(By.XPATH,'//p[@class=\"boldFont blackText airlineName\"]')\n",
    "for i in pro:\n",
    "    namess.append(i.text)\n",
    "        "
   ]
  },
  {
   "cell_type": "code",
   "execution_count": null,
   "id": "0b2c098b",
   "metadata": {},
   "outputs": [],
   "source": [
    "len(namess)"
   ]
  },
  {
   "cell_type": "code",
   "execution_count": null,
   "id": "3f620eb7",
   "metadata": {},
   "outputs": [],
   "source": [
    "namess"
   ]
  },
  {
   "cell_type": "code",
   "execution_count": null,
   "id": "f9284d9c",
   "metadata": {},
   "outputs": [],
   "source": [
    "depa = []\n",
    "pro = driver.find_elements(By.XPATH,'//div[@class=\"flexOne timeInfoLeft\"]')\n",
    "for i in pro:\n",
    "    depa.append(i.text[0:5])\n",
    "        "
   ]
  },
  {
   "cell_type": "code",
   "execution_count": null,
   "id": "4de99a86",
   "metadata": {},
   "outputs": [],
   "source": [
    "len(depa)"
   ]
  },
  {
   "cell_type": "code",
   "execution_count": null,
   "id": "19c6cce9",
   "metadata": {},
   "outputs": [],
   "source": [
    "depa"
   ]
  },
  {
   "cell_type": "code",
   "execution_count": null,
   "id": "6817d720",
   "metadata": {},
   "outputs": [],
   "source": [
    "arriva = []\n",
    "pro = driver.find_elements(By.XPATH,'//div[@class=\"flexOne timeInfoRight\"]')\n",
    "for i in pro:\n",
    "    arriva.append(i.text[0:5])\n",
    "        "
   ]
  },
  {
   "cell_type": "code",
   "execution_count": null,
   "id": "2d71bf32",
   "metadata": {},
   "outputs": [],
   "source": [
    "len(arriva)"
   ]
  },
  {
   "cell_type": "code",
   "execution_count": null,
   "id": "a0da2632",
   "metadata": {},
   "outputs": [],
   "source": [
    "arriva"
   ]
  },
  {
   "cell_type": "code",
   "execution_count": null,
   "id": "1bafa6ca",
   "metadata": {},
   "outputs": [],
   "source": [
    "sourc = []\n",
    "pro = driver.find_elements(By.XPATH,'//div[@class=\"flexOne timeInfoLeft\"]')\n",
    "for i in pro:\n",
    "    sourc.append(i.text[6:])\n",
    "        "
   ]
  },
  {
   "cell_type": "code",
   "execution_count": null,
   "id": "829ac0ac",
   "metadata": {},
   "outputs": [],
   "source": [
    "len(sourc)"
   ]
  },
  {
   "cell_type": "code",
   "execution_count": null,
   "id": "0177ba50",
   "metadata": {},
   "outputs": [],
   "source": [
    "sourc"
   ]
  },
  {
   "cell_type": "code",
   "execution_count": null,
   "id": "f38c213b",
   "metadata": {},
   "outputs": [],
   "source": [
    "Destina = []\n",
    "pro = driver.find_elements(By.XPATH,'//div[@class=\"flexOne timeInfoRight\"]')\n",
    "for i in pro:\n",
    "    Destina.append(i.text[6:20])"
   ]
  },
  {
   "cell_type": "code",
   "execution_count": null,
   "id": "ef3daf0a",
   "metadata": {},
   "outputs": [],
   "source": [
    "len(Destina)"
   ]
  },
  {
   "cell_type": "code",
   "execution_count": null,
   "id": "ed88a955",
   "metadata": {},
   "outputs": [],
   "source": [
    "Destina"
   ]
  },
  {
   "cell_type": "code",
   "execution_count": null,
   "id": "23655353",
   "metadata": {},
   "outputs": [],
   "source": [
    "stopss = []\n",
    "pro = driver.find_elements(By.XPATH,'//p[@class=\"flightsLayoverInfo\"]')\n",
    "for i in pro:\n",
    "    stopss.append(i.text[0:7])\n",
    "        "
   ]
  },
  {
   "cell_type": "code",
   "execution_count": null,
   "id": "23cd9cce",
   "metadata": {},
   "outputs": [],
   "source": [
    "len(stopss)"
   ]
  },
  {
   "cell_type": "code",
   "execution_count": null,
   "id": "3a011abc",
   "metadata": {},
   "outputs": [],
   "source": [
    "stopss"
   ]
  },
  {
   "cell_type": "code",
   "execution_count": null,
   "id": "9aa869c1",
   "metadata": {},
   "outputs": [],
   "source": [
    "airli = []\n",
    "pro = driver.find_elements(By.XPATH,'//p[@class=\"flightsLayoverInfo\"]')\n",
    "for i in pro:\n",
    "    airli.append(i.text[11:])\n",
    "        "
   ]
  },
  {
   "cell_type": "code",
   "execution_count": null,
   "id": "e1678e5a",
   "metadata": {},
   "outputs": [],
   "source": [
    "len(airli)"
   ]
  },
  {
   "cell_type": "code",
   "execution_count": null,
   "id": "6a1e3c4c",
   "metadata": {},
   "outputs": [],
   "source": [
    "airli"
   ]
  },
  {
   "cell_type": "code",
   "execution_count": null,
   "id": "caa50cda",
   "metadata": {},
   "outputs": [],
   "source": [
    "total = []\n",
    "pro = driver.find_elements(By.XPATH,'//div[@class=\"stop-info flexOne\"]')\n",
    "for i in pro:\n",
    "    total.append(i.text[0:7])"
   ]
  },
  {
   "cell_type": "code",
   "execution_count": null,
   "id": "98840da2",
   "metadata": {},
   "outputs": [],
   "source": [
    "len(total)"
   ]
  },
  {
   "cell_type": "code",
   "execution_count": null,
   "id": "7ea57024",
   "metadata": {},
   "outputs": [],
   "source": [
    "total"
   ]
  },
  {
   "cell_type": "code",
   "execution_count": null,
   "id": "f6a8e827",
   "metadata": {},
   "outputs": [],
   "source": [
    "price = []\n",
    "pro = driver.find_elements(By.XPATH,'//p[@class=\"blackText fontSize18 blackFont white-space-no-wrap\"]')\n",
    "for i in pro:\n",
    "    price.append(i.text[0:10])"
   ]
  },
  {
   "cell_type": "code",
   "execution_count": null,
   "id": "6359791f",
   "metadata": {},
   "outputs": [],
   "source": [
    "len(price)"
   ]
  },
  {
   "cell_type": "code",
   "execution_count": null,
   "id": "b236639b",
   "metadata": {},
   "outputs": [],
   "source": [
    "price"
   ]
  },
  {
   "cell_type": "raw",
   "id": "7b099147",
   "metadata": {},
   "source": [
    "Lets fetch with some diff dates and with some diff data"
   ]
  },
  {
   "cell_type": "code",
   "execution_count": null,
   "id": "01b0ecc6",
   "metadata": {},
   "outputs": [],
   "source": [
    "url = \"https://www.makemytrip.com/flight/search?tripType=O&itinerary=BLR-NYC-07/11/2022&paxType=A-1_C-0_I-0&cabinClass=E&sTime=1663843777585&forwardFlowRequired=true&mpo=&semType=&intl=true\"\n",
    "driver.get(url)"
   ]
  },
  {
   "cell_type": "code",
   "execution_count": null,
   "id": "e688faa2",
   "metadata": {},
   "outputs": [],
   "source": [
    "namesa = []\n",
    "pro = driver.find_elements(By.XPATH,'//p[@class=\"boldFont blackText airlineName\"]')\n",
    "for i in pro:\n",
    "    namesa.append(i.text)\n",
    "        \n",
    " "
   ]
  },
  {
   "cell_type": "code",
   "execution_count": null,
   "id": "2a86e2d5",
   "metadata": {},
   "outputs": [],
   "source": [
    "len(namesa)"
   ]
  },
  {
   "cell_type": "code",
   "execution_count": null,
   "id": "17eda1e7",
   "metadata": {},
   "outputs": [],
   "source": [
    "namesa"
   ]
  },
  {
   "cell_type": "code",
   "execution_count": null,
   "id": "0a93b250",
   "metadata": {},
   "outputs": [],
   "source": [
    "depar = []\n",
    "pro = driver.find_elements(By.XPATH,'//div[@class=\"flexOne timeInfoLeft\"]')\n",
    "for i in pro:\n",
    "    depar.append(i.text[0:5])\n",
    "        "
   ]
  },
  {
   "cell_type": "code",
   "execution_count": null,
   "id": "01b36da1",
   "metadata": {},
   "outputs": [],
   "source": [
    "len(depar)"
   ]
  },
  {
   "cell_type": "code",
   "execution_count": null,
   "id": "afd1606e",
   "metadata": {},
   "outputs": [],
   "source": [
    "depar"
   ]
  },
  {
   "cell_type": "code",
   "execution_count": null,
   "id": "87a61280",
   "metadata": {},
   "outputs": [],
   "source": [
    "arrival = []\n",
    "pro = driver.find_elements(By.XPATH,'//div[@class=\"flexOne timeInfoRight\"]')\n",
    "for i in pro:\n",
    "    arrival.append(i.text[0:5])\n",
    "        \n",
    " "
   ]
  },
  {
   "cell_type": "code",
   "execution_count": null,
   "id": "f30902a4",
   "metadata": {},
   "outputs": [],
   "source": [
    "len(arrival)"
   ]
  },
  {
   "cell_type": "code",
   "execution_count": null,
   "id": "cf59e4d0",
   "metadata": {},
   "outputs": [],
   "source": [
    "arrival"
   ]
  },
  {
   "cell_type": "code",
   "execution_count": null,
   "id": "73a8feca",
   "metadata": {},
   "outputs": [],
   "source": [
    "\n",
    "source = []\n",
    "pro = driver.find_elements(By.XPATH,'//div[@class=\"flexOne timeInfoLeft\"]')\n",
    "for i in pro:\n",
    "    source.append(i.text[6:])\n",
    "        \n",
    " "
   ]
  },
  {
   "cell_type": "code",
   "execution_count": null,
   "id": "5abd0656",
   "metadata": {},
   "outputs": [],
   "source": [
    "len(source)"
   ]
  },
  {
   "cell_type": "code",
   "execution_count": null,
   "id": "5c42a364",
   "metadata": {},
   "outputs": [],
   "source": [
    "source"
   ]
  },
  {
   "cell_type": "code",
   "execution_count": null,
   "id": "d75d4e1f",
   "metadata": {},
   "outputs": [],
   "source": [
    "Destinat = []\n",
    "pro = driver.find_elements(By.XPATH,'//div[@class=\"flexOne timeInfoRight\"]')\n",
    "for i in pro:\n",
    "    Destinat.append(i.text[6:20])\n",
    "        "
   ]
  },
  {
   "cell_type": "code",
   "execution_count": null,
   "id": "e539135e",
   "metadata": {},
   "outputs": [],
   "source": [
    "len(Destinat)"
   ]
  },
  {
   "cell_type": "code",
   "execution_count": null,
   "id": "6d883c6c",
   "metadata": {},
   "outputs": [],
   "source": [
    "Destinat"
   ]
  },
  {
   "cell_type": "code",
   "execution_count": null,
   "id": "472aa697",
   "metadata": {},
   "outputs": [],
   "source": [
    "stopsa = []\n",
    "pro = driver.find_elements(By.XPATH,'//p[@class=\"flightsLayoverInfo\"]')\n",
    "for i in pro:\n",
    "    stopsa.append(i.text[0:7])\n",
    "        "
   ]
  },
  {
   "cell_type": "code",
   "execution_count": null,
   "id": "1fadc9d6",
   "metadata": {},
   "outputs": [],
   "source": [
    "len(stopsa)"
   ]
  },
  {
   "cell_type": "code",
   "execution_count": null,
   "id": "012ab37c",
   "metadata": {},
   "outputs": [],
   "source": [
    "stopsa"
   ]
  },
  {
   "cell_type": "code",
   "execution_count": null,
   "id": "cd927ee6",
   "metadata": {},
   "outputs": [],
   "source": [
    "airlin = []\n",
    "pro = driver.find_elements(By.XPATH,'//p[@class=\"flightsLayoverInfo\"]')\n",
    "for i in pro:\n",
    "    airlin.append(i.text[11:])\n",
    "        "
   ]
  },
  {
   "cell_type": "code",
   "execution_count": null,
   "id": "537c5014",
   "metadata": {},
   "outputs": [],
   "source": [
    "len(airlin)"
   ]
  },
  {
   "cell_type": "code",
   "execution_count": null,
   "id": "3ce951ff",
   "metadata": {},
   "outputs": [],
   "source": [
    "airlin"
   ]
  },
  {
   "cell_type": "code",
   "execution_count": null,
   "id": "06d62cba",
   "metadata": {},
   "outputs": [],
   "source": [
    "totala = []\n",
    "pro = driver.find_elements(By.XPATH,'//div[@class=\"stop-info flexOne\"]')\n",
    "for i in pro:\n",
    "    totala.append(i.text[0:7])"
   ]
  },
  {
   "cell_type": "code",
   "execution_count": null,
   "id": "b3ad9d46",
   "metadata": {},
   "outputs": [],
   "source": [
    "len(totala)"
   ]
  },
  {
   "cell_type": "code",
   "execution_count": null,
   "id": "a75210d2",
   "metadata": {},
   "outputs": [],
   "source": [
    "totala"
   ]
  },
  {
   "cell_type": "code",
   "execution_count": null,
   "id": "d3f44f5d",
   "metadata": {},
   "outputs": [],
   "source": [
    "pricea = []\n",
    "pro = driver.find_elements(By.XPATH,'//p[@class=\"blackText fontSize18 blackFont white-space-no-wrap\"]')\n",
    "for i in pro:\n",
    "    pricea.append(i.text[0:10])"
   ]
  },
  {
   "cell_type": "code",
   "execution_count": null,
   "id": "8618e400",
   "metadata": {},
   "outputs": [],
   "source": [
    "len(pricea)"
   ]
  },
  {
   "cell_type": "code",
   "execution_count": null,
   "id": "8551f638",
   "metadata": {},
   "outputs": [],
   "source": [
    "pricea"
   ]
  },
  {
   "cell_type": "raw",
   "id": "156f38a7",
   "metadata": {},
   "source": [
    "lets first merge these data\n",
    "name"
   ]
  },
  {
   "cell_type": "code",
   "execution_count": null,
   "id": "47677dfc",
   "metadata": {},
   "outputs": [],
   "source": [
    "namesa.extend(name)"
   ]
  },
  {
   "cell_type": "code",
   "execution_count": null,
   "id": "dd6e3b5f",
   "metadata": {},
   "outputs": [],
   "source": [
    "len(namesa)"
   ]
  },
  {
   "cell_type": "code",
   "execution_count": null,
   "id": "db07337b",
   "metadata": {},
   "outputs": [],
   "source": [
    "namesa.extend(names)"
   ]
  },
  {
   "cell_type": "code",
   "execution_count": null,
   "id": "ee2b517a",
   "metadata": {},
   "outputs": [],
   "source": [
    "len(namesa)"
   ]
  },
  {
   "cell_type": "code",
   "execution_count": null,
   "id": "a3b71e36",
   "metadata": {},
   "outputs": [],
   "source": [
    "namesa.extend(namess)\n",
    "print(namesa)"
   ]
  },
  {
   "cell_type": "code",
   "execution_count": null,
   "id": "5e74581a",
   "metadata": {},
   "outputs": [],
   "source": [
    "len(namesa)"
   ]
  },
  {
   "cell_type": "raw",
   "id": "c4add7d8",
   "metadata": {},
   "source": [
    "departure"
   ]
  },
  {
   "cell_type": "code",
   "execution_count": null,
   "id": "3c2d6a36",
   "metadata": {},
   "outputs": [],
   "source": [
    "depar.extend(dep)"
   ]
  },
  {
   "cell_type": "code",
   "execution_count": null,
   "id": "4d5e010c",
   "metadata": {},
   "outputs": [],
   "source": [
    "depar.extend(deps)"
   ]
  },
  {
   "cell_type": "code",
   "execution_count": null,
   "id": "cda1763b",
   "metadata": {},
   "outputs": [],
   "source": [
    "depar.extend(depa)"
   ]
  },
  {
   "cell_type": "code",
   "execution_count": null,
   "id": "fb6fc0a1",
   "metadata": {},
   "outputs": [],
   "source": [
    "len(depar)"
   ]
  },
  {
   "cell_type": "code",
   "execution_count": null,
   "id": "50b1114b",
   "metadata": {},
   "outputs": [],
   "source": [
    "print(depar)"
   ]
  },
  {
   "cell_type": "raw",
   "id": "ebe315c9",
   "metadata": {},
   "source": [
    "Arrival time"
   ]
  },
  {
   "cell_type": "code",
   "execution_count": null,
   "id": "c61ef13d",
   "metadata": {},
   "outputs": [],
   "source": [
    "arrival.extend(arri)"
   ]
  },
  {
   "cell_type": "code",
   "execution_count": null,
   "id": "164aa807",
   "metadata": {},
   "outputs": [],
   "source": [
    "arrival.extend(arriv)"
   ]
  },
  {
   "cell_type": "code",
   "execution_count": null,
   "id": "7d0718c5",
   "metadata": {},
   "outputs": [],
   "source": [
    "arrival.extend(arriva)"
   ]
  },
  {
   "cell_type": "code",
   "execution_count": null,
   "id": "a30da114",
   "metadata": {},
   "outputs": [],
   "source": [
    "len(arrival)"
   ]
  },
  {
   "cell_type": "code",
   "execution_count": null,
   "id": "0172d56d",
   "metadata": {},
   "outputs": [],
   "source": [
    "arrival"
   ]
  },
  {
   "cell_type": "raw",
   "id": "f7da1c03",
   "metadata": {},
   "source": [
    "Source"
   ]
  },
  {
   "cell_type": "code",
   "execution_count": null,
   "id": "7fa95f14",
   "metadata": {},
   "outputs": [],
   "source": [
    "source.extend(sou)"
   ]
  },
  {
   "cell_type": "code",
   "execution_count": null,
   "id": "dd6358b9",
   "metadata": {},
   "outputs": [],
   "source": [
    "source.extend(sour)"
   ]
  },
  {
   "cell_type": "code",
   "execution_count": null,
   "id": "8973735d",
   "metadata": {},
   "outputs": [],
   "source": [
    "source.extend(sourc)"
   ]
  },
  {
   "cell_type": "code",
   "execution_count": null,
   "id": "08a9f898",
   "metadata": {},
   "outputs": [],
   "source": [
    "len(source)"
   ]
  },
  {
   "cell_type": "code",
   "execution_count": null,
   "id": "3bcd6cb6",
   "metadata": {},
   "outputs": [],
   "source": [
    "source"
   ]
  },
  {
   "cell_type": "raw",
   "id": "7ea69bee",
   "metadata": {},
   "source": [
    "Destination"
   ]
  },
  {
   "cell_type": "code",
   "execution_count": null,
   "id": "e92fa21b",
   "metadata": {},
   "outputs": [],
   "source": [
    "Destinat.extend(Desti)"
   ]
  },
  {
   "cell_type": "code",
   "execution_count": null,
   "id": "168fa516",
   "metadata": {},
   "outputs": [],
   "source": [
    "Destinat.extend(Destin)"
   ]
  },
  {
   "cell_type": "code",
   "execution_count": null,
   "id": "24306cb5",
   "metadata": {},
   "outputs": [],
   "source": [
    "Destinat.extend(Destina)"
   ]
  },
  {
   "cell_type": "code",
   "execution_count": null,
   "id": "afc14af9",
   "metadata": {},
   "outputs": [],
   "source": [
    "len(Destinat)"
   ]
  },
  {
   "cell_type": "code",
   "execution_count": null,
   "id": "34d64c23",
   "metadata": {},
   "outputs": [],
   "source": [
    "Destinat"
   ]
  },
  {
   "cell_type": "raw",
   "id": "948faa3b",
   "metadata": {},
   "source": [
    "Total stop"
   ]
  },
  {
   "cell_type": "code",
   "execution_count": null,
   "id": "ccd23ebb",
   "metadata": {},
   "outputs": [],
   "source": [
    "stopsa.extend(stop)"
   ]
  },
  {
   "cell_type": "code",
   "execution_count": null,
   "id": "4f2645ba",
   "metadata": {},
   "outputs": [],
   "source": [
    "stopsa.extend(stops)"
   ]
  },
  {
   "cell_type": "code",
   "execution_count": null,
   "id": "15e9ab86",
   "metadata": {},
   "outputs": [],
   "source": [
    "stopsa.extend(stopss)"
   ]
  },
  {
   "cell_type": "code",
   "execution_count": null,
   "id": "03d5e0f3",
   "metadata": {},
   "outputs": [],
   "source": [
    "len(stopsa)"
   ]
  },
  {
   "cell_type": "code",
   "execution_count": null,
   "id": "681e9733",
   "metadata": {},
   "outputs": [],
   "source": [
    "stopsa"
   ]
  },
  {
   "cell_type": "raw",
   "id": "aa5cb6c8",
   "metadata": {},
   "source": [
    "Stoppping airports"
   ]
  },
  {
   "cell_type": "code",
   "execution_count": null,
   "id": "62d4db7d",
   "metadata": {},
   "outputs": [],
   "source": [
    "airlin.extend(air)"
   ]
  },
  {
   "cell_type": "code",
   "execution_count": null,
   "id": "35dc762b",
   "metadata": {},
   "outputs": [],
   "source": [
    "airlin.extend(airl)"
   ]
  },
  {
   "cell_type": "code",
   "execution_count": null,
   "id": "9db28e17",
   "metadata": {},
   "outputs": [],
   "source": [
    "airlin.extend(airl)"
   ]
  },
  {
   "cell_type": "code",
   "execution_count": null,
   "id": "357e4cfb",
   "metadata": {},
   "outputs": [],
   "source": [
    "len(airlin)"
   ]
  },
  {
   "cell_type": "code",
   "execution_count": null,
   "id": "1d92dfbe",
   "metadata": {},
   "outputs": [],
   "source": [
    "airlin"
   ]
  },
  {
   "cell_type": "raw",
   "id": "5c514ef7",
   "metadata": {},
   "source": [
    "Fair Price"
   ]
  },
  {
   "cell_type": "code",
   "execution_count": null,
   "id": "be91eebc",
   "metadata": {},
   "outputs": [],
   "source": [
    "pricea.extend(pri)"
   ]
  },
  {
   "cell_type": "code",
   "execution_count": null,
   "id": "dcb10fe4",
   "metadata": {},
   "outputs": [],
   "source": [
    "pricea.extend(pric)"
   ]
  },
  {
   "cell_type": "code",
   "execution_count": null,
   "id": "c8433896",
   "metadata": {},
   "outputs": [],
   "source": [
    "pricea.extend(price)"
   ]
  },
  {
   "cell_type": "code",
   "execution_count": null,
   "id": "71c1f19c",
   "metadata": {},
   "outputs": [],
   "source": [
    "len(pricea)"
   ]
  },
  {
   "cell_type": "code",
   "execution_count": null,
   "id": "06a69b12",
   "metadata": {},
   "outputs": [],
   "source": [
    "pricea"
   ]
  }
 ],
 "metadata": {
  "kernelspec": {
   "display_name": "Python 3 (ipykernel)",
   "language": "python",
   "name": "python3"
  },
  "language_info": {
   "codemirror_mode": {
    "name": "ipython",
    "version": 3
   },
   "file_extension": ".py",
   "mimetype": "text/x-python",
   "name": "python",
   "nbconvert_exporter": "python",
   "pygments_lexer": "ipython3",
   "version": "3.9.12"
  }
 },
 "nbformat": 4,
 "nbformat_minor": 5
}
